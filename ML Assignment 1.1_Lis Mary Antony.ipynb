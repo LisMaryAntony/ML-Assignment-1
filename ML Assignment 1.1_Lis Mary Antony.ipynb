{
 "cells": [
  {
   "cell_type": "code",
   "execution_count": 26,
   "id": "0c53ef83-4ca0-444d-9e8f-c93c8adbde94",
   "metadata": {},
   "outputs": [],
   "source": [
    "import pandas as pd\n",
    "import numpy as np\n",
    "import seaborn as sb\n",
    "import matplotlib.pyplot as plt"
   ]
  },
  {
   "cell_type": "code",
   "execution_count": 3,
   "id": "7344623c-017d-44fa-98a4-6c6a9669c53c",
   "metadata": {},
   "outputs": [],
   "source": [
    "df = pd.read_csv('house_price.csv')"
   ]
  },
  {
   "cell_type": "code",
   "execution_count": 5,
   "id": "ea0696e8-1ef4-42c3-9a30-a185616254ba",
   "metadata": {},
   "outputs": [
    {
     "data": {
      "text/html": [
       "<div>\n",
       "<style scoped>\n",
       "    .dataframe tbody tr th:only-of-type {\n",
       "        vertical-align: middle;\n",
       "    }\n",
       "\n",
       "    .dataframe tbody tr th {\n",
       "        vertical-align: top;\n",
       "    }\n",
       "\n",
       "    .dataframe thead th {\n",
       "        text-align: right;\n",
       "    }\n",
       "</style>\n",
       "<table border=\"1\" class=\"dataframe\">\n",
       "  <thead>\n",
       "    <tr style=\"text-align: right;\">\n",
       "      <th></th>\n",
       "      <th>location</th>\n",
       "      <th>size</th>\n",
       "      <th>total_sqft</th>\n",
       "      <th>bath</th>\n",
       "      <th>price</th>\n",
       "      <th>bhk</th>\n",
       "      <th>price_per_sqft</th>\n",
       "    </tr>\n",
       "  </thead>\n",
       "  <tbody>\n",
       "    <tr>\n",
       "      <th>0</th>\n",
       "      <td>Electronic City Phase II</td>\n",
       "      <td>2 BHK</td>\n",
       "      <td>1056.0</td>\n",
       "      <td>2</td>\n",
       "      <td>39.07</td>\n",
       "      <td>2</td>\n",
       "      <td>3699</td>\n",
       "    </tr>\n",
       "    <tr>\n",
       "      <th>1</th>\n",
       "      <td>Chikka Tirupathi</td>\n",
       "      <td>4 Bedroom</td>\n",
       "      <td>2600.0</td>\n",
       "      <td>5</td>\n",
       "      <td>120.00</td>\n",
       "      <td>4</td>\n",
       "      <td>4615</td>\n",
       "    </tr>\n",
       "    <tr>\n",
       "      <th>2</th>\n",
       "      <td>Uttarahalli</td>\n",
       "      <td>3 BHK</td>\n",
       "      <td>1440.0</td>\n",
       "      <td>2</td>\n",
       "      <td>62.00</td>\n",
       "      <td>3</td>\n",
       "      <td>4305</td>\n",
       "    </tr>\n",
       "    <tr>\n",
       "      <th>3</th>\n",
       "      <td>Lingadheeranahalli</td>\n",
       "      <td>3 BHK</td>\n",
       "      <td>1521.0</td>\n",
       "      <td>3</td>\n",
       "      <td>95.00</td>\n",
       "      <td>3</td>\n",
       "      <td>6245</td>\n",
       "    </tr>\n",
       "    <tr>\n",
       "      <th>4</th>\n",
       "      <td>Kothanur</td>\n",
       "      <td>2 BHK</td>\n",
       "      <td>1200.0</td>\n",
       "      <td>2</td>\n",
       "      <td>51.00</td>\n",
       "      <td>2</td>\n",
       "      <td>4250</td>\n",
       "    </tr>\n",
       "    <tr>\n",
       "      <th>5</th>\n",
       "      <td>Whitefield</td>\n",
       "      <td>2 BHK</td>\n",
       "      <td>1170.0</td>\n",
       "      <td>2</td>\n",
       "      <td>38.00</td>\n",
       "      <td>2</td>\n",
       "      <td>3247</td>\n",
       "    </tr>\n",
       "    <tr>\n",
       "      <th>6</th>\n",
       "      <td>Old Airport Road</td>\n",
       "      <td>4 BHK</td>\n",
       "      <td>2732.0</td>\n",
       "      <td>4</td>\n",
       "      <td>204.00</td>\n",
       "      <td>4</td>\n",
       "      <td>7467</td>\n",
       "    </tr>\n",
       "    <tr>\n",
       "      <th>7</th>\n",
       "      <td>Rajaji Nagar</td>\n",
       "      <td>4 BHK</td>\n",
       "      <td>3300.0</td>\n",
       "      <td>4</td>\n",
       "      <td>600.00</td>\n",
       "      <td>4</td>\n",
       "      <td>18181</td>\n",
       "    </tr>\n",
       "    <tr>\n",
       "      <th>8</th>\n",
       "      <td>Marathahalli</td>\n",
       "      <td>3 BHK</td>\n",
       "      <td>1310.0</td>\n",
       "      <td>3</td>\n",
       "      <td>63.25</td>\n",
       "      <td>3</td>\n",
       "      <td>4828</td>\n",
       "    </tr>\n",
       "    <tr>\n",
       "      <th>9</th>\n",
       "      <td>other</td>\n",
       "      <td>6 Bedroom</td>\n",
       "      <td>1020.0</td>\n",
       "      <td>6</td>\n",
       "      <td>370.00</td>\n",
       "      <td>6</td>\n",
       "      <td>36274</td>\n",
       "    </tr>\n",
       "  </tbody>\n",
       "</table>\n",
       "</div>"
      ],
      "text/plain": [
       "                   location       size  total_sqft  bath   price  bhk  \\\n",
       "0  Electronic City Phase II      2 BHK      1056.0     2   39.07    2   \n",
       "1          Chikka Tirupathi  4 Bedroom      2600.0     5  120.00    4   \n",
       "2               Uttarahalli      3 BHK      1440.0     2   62.00    3   \n",
       "3        Lingadheeranahalli      3 BHK      1521.0     3   95.00    3   \n",
       "4                  Kothanur      2 BHK      1200.0     2   51.00    2   \n",
       "5                Whitefield      2 BHK      1170.0     2   38.00    2   \n",
       "6          Old Airport Road      4 BHK      2732.0     4  204.00    4   \n",
       "7              Rajaji Nagar      4 BHK      3300.0     4  600.00    4   \n",
       "8              Marathahalli      3 BHK      1310.0     3   63.25    3   \n",
       "9                     other  6 Bedroom      1020.0     6  370.00    6   \n",
       "\n",
       "   price_per_sqft  \n",
       "0            3699  \n",
       "1            4615  \n",
       "2            4305  \n",
       "3            6245  \n",
       "4            4250  \n",
       "5            3247  \n",
       "6            7467  \n",
       "7           18181  \n",
       "8            4828  \n",
       "9           36274  "
      ]
     },
     "execution_count": 5,
     "metadata": {},
     "output_type": "execute_result"
    }
   ],
   "source": [
    "df.head(10)"
   ]
  },
  {
   "cell_type": "markdown",
   "id": "510a6af6-9745-4186-8e58-4bd4f635c171",
   "metadata": {},
   "source": [
    "# Q1"
   ]
  },
  {
   "cell_type": "code",
   "execution_count": 10,
   "id": "ab2a22d4-41fb-4ad8-a632-be5ccb5131f7",
   "metadata": {},
   "outputs": [
    {
     "name": "stdout",
     "output_type": "stream",
     "text": [
      "Shape of the dataset: (13200, 7)\n"
     ]
    }
   ],
   "source": [
    "print(\"Shape of the dataset:\", df.shape)"
   ]
  },
  {
   "cell_type": "code",
   "execution_count": 14,
   "id": "903b402c-da6d-440d-91ed-0d1f7b33f271",
   "metadata": {},
   "outputs": [
    {
     "data": {
      "text/html": [
       "<div>\n",
       "<style scoped>\n",
       "    .dataframe tbody tr th:only-of-type {\n",
       "        vertical-align: middle;\n",
       "    }\n",
       "\n",
       "    .dataframe tbody tr th {\n",
       "        vertical-align: top;\n",
       "    }\n",
       "\n",
       "    .dataframe thead th {\n",
       "        text-align: right;\n",
       "    }\n",
       "</style>\n",
       "<table border=\"1\" class=\"dataframe\">\n",
       "  <thead>\n",
       "    <tr style=\"text-align: right;\">\n",
       "      <th></th>\n",
       "      <th>total_sqft</th>\n",
       "      <th>bath</th>\n",
       "      <th>price</th>\n",
       "      <th>bhk</th>\n",
       "      <th>price_per_sqft</th>\n",
       "    </tr>\n",
       "  </thead>\n",
       "  <tbody>\n",
       "    <tr>\n",
       "      <th>count</th>\n",
       "      <td>13200.000000</td>\n",
       "      <td>13200.000000</td>\n",
       "      <td>13200.000000</td>\n",
       "      <td>13200.000000</td>\n",
       "      <td>1.320000e+04</td>\n",
       "    </tr>\n",
       "    <tr>\n",
       "      <th>mean</th>\n",
       "      <td>1555.302783</td>\n",
       "      <td>2.691136</td>\n",
       "      <td>112.276178</td>\n",
       "      <td>2.800833</td>\n",
       "      <td>7.920337e+03</td>\n",
       "    </tr>\n",
       "    <tr>\n",
       "      <th>std</th>\n",
       "      <td>1237.323445</td>\n",
       "      <td>1.338915</td>\n",
       "      <td>149.175995</td>\n",
       "      <td>1.292843</td>\n",
       "      <td>1.067272e+05</td>\n",
       "    </tr>\n",
       "    <tr>\n",
       "      <th>min</th>\n",
       "      <td>1.000000</td>\n",
       "      <td>1.000000</td>\n",
       "      <td>8.000000</td>\n",
       "      <td>1.000000</td>\n",
       "      <td>2.670000e+02</td>\n",
       "    </tr>\n",
       "    <tr>\n",
       "      <th>25%</th>\n",
       "      <td>1100.000000</td>\n",
       "      <td>2.000000</td>\n",
       "      <td>50.000000</td>\n",
       "      <td>2.000000</td>\n",
       "      <td>4.267000e+03</td>\n",
       "    </tr>\n",
       "    <tr>\n",
       "      <th>50%</th>\n",
       "      <td>1275.000000</td>\n",
       "      <td>2.000000</td>\n",
       "      <td>71.850000</td>\n",
       "      <td>3.000000</td>\n",
       "      <td>5.438000e+03</td>\n",
       "    </tr>\n",
       "    <tr>\n",
       "      <th>75%</th>\n",
       "      <td>1672.000000</td>\n",
       "      <td>3.000000</td>\n",
       "      <td>120.000000</td>\n",
       "      <td>3.000000</td>\n",
       "      <td>7.317000e+03</td>\n",
       "    </tr>\n",
       "    <tr>\n",
       "      <th>max</th>\n",
       "      <td>52272.000000</td>\n",
       "      <td>40.000000</td>\n",
       "      <td>3600.000000</td>\n",
       "      <td>43.000000</td>\n",
       "      <td>1.200000e+07</td>\n",
       "    </tr>\n",
       "  </tbody>\n",
       "</table>\n",
       "</div>"
      ],
      "text/plain": [
       "         total_sqft          bath         price           bhk  price_per_sqft\n",
       "count  13200.000000  13200.000000  13200.000000  13200.000000    1.320000e+04\n",
       "mean    1555.302783      2.691136    112.276178      2.800833    7.920337e+03\n",
       "std     1237.323445      1.338915    149.175995      1.292843    1.067272e+05\n",
       "min        1.000000      1.000000      8.000000      1.000000    2.670000e+02\n",
       "25%     1100.000000      2.000000     50.000000      2.000000    4.267000e+03\n",
       "50%     1275.000000      2.000000     71.850000      3.000000    5.438000e+03\n",
       "75%     1672.000000      3.000000    120.000000      3.000000    7.317000e+03\n",
       "max    52272.000000     40.000000   3600.000000     43.000000    1.200000e+07"
      ]
     },
     "execution_count": 14,
     "metadata": {},
     "output_type": "execute_result"
    }
   ],
   "source": [
    "df.describe()"
   ]
  },
  {
   "cell_type": "code",
   "execution_count": 24,
   "id": "4c80eb2d-944c-4b8d-b61c-33ce941b5739",
   "metadata": {},
   "outputs": [
    {
     "data": {
      "text/plain": [
       "location          0\n",
       "size              0\n",
       "total_sqft        0\n",
       "bath              0\n",
       "price             0\n",
       "bhk               0\n",
       "price_per_sqft    0\n",
       "dtype: int64"
      ]
     },
     "execution_count": 24,
     "metadata": {},
     "output_type": "execute_result"
    }
   ],
   "source": [
    "df.isnull().sum()"
   ]
  },
  {
   "cell_type": "code",
   "execution_count": 28,
   "id": "839df2d8-a1d3-4f1e-8472-2bbf060ce2f4",
   "metadata": {},
   "outputs": [
    {
     "data": {
      "image/png": "[encoded data removed]",
      "text/plain": [
       "<Figure size 640x480 with 1 Axes>"
      ]
     },
     "metadata": {},
     "output_type": "display_data"
    }
   ],
   "source": [
    "sb.histplot(df['price_per_sqft'], bins=30, kde=True)\n",
    "plt.title('Distribution of Price per Square Foot')\n",
    "plt.xlabel('Price per Square Foot')\n",
    "plt.ylabel('Frequency')\n",
    "plt.show()"
   ]
  },
  {
   "cell_type": "markdown",
   "id": "181620f9-606f-4b01-889e-7d309213cb04",
   "metadata": {},
   "source": [
    "# Q2"
   ]
  },
  {
   "cell_type": "code",
   "execution_count": 31,
   "id": "74398f74-63ad-4068-aec4-443a35168277",
   "metadata": {},
   "outputs": [],
   "source": [
    "# Mean and Standard Deviation"
   ]
  },
  {
   "cell_type": "code",
   "execution_count": 33,
   "id": "3f72d953-5452-44eb-bf17-02b46b42d96c",
   "metadata": {},
   "outputs": [],
   "source": [
    "mean = df['price_per_sqft'].mean()\n",
    "std_dev = df['price_per_sqft'].std()\n",
    "cut_off = std_dev * 3\n",
    "lower_limit = mean - cut_off\n",
    "upper_limit = mean + cut_off"
   ]
  },
  {
   "cell_type": "code",
   "execution_count": 35,
   "id": "e0f2a29a-8646-4f06-b6ee-f66482d4c597",
   "metadata": {},
   "outputs": [
    {
     "name": "stdout",
     "output_type": "stream",
     "text": [
      "Mean:  7920.336742424242 Standard Deviation:  106727.16032810845 Cut off:  320181.48098432535\n",
      "Lower limit: -312261.1442419011 Upper limit:  328101.8177267496\n"
     ]
    }
   ],
   "source": [
    "print('Mean: ', mean, 'Standard Deviation: ', std_dev, 'Cut off: ', cut_off)\n",
    "print('Lower limit:', lower_limit, 'Upper limit: ', upper_limit)"
   ]
  },
  {
   "cell_type": "code",
   "execution_count": 37,
   "id": "d1622594-30c5-4108-8654-9d9604e9cfcb",
   "metadata": {},
   "outputs": [],
   "source": [
    "df_mean_std = df[(df['price_per_sqft'] >= lower_limit) & (df['price_per_sqft'] <= upper_limit)]"
   ]
  },
  {
   "cell_type": "code",
   "execution_count": 43,
   "id": "844da9d5-1831-476f-93bb-5296e85b72e0",
   "metadata": {},
   "outputs": [
    {
     "data": {
      "text/html": [
       "<div>\n",
       "<style scoped>\n",
       "    .dataframe tbody tr th:only-of-type {\n",
       "        vertical-align: middle;\n",
       "    }\n",
       "\n",
       "    .dataframe tbody tr th {\n",
       "        vertical-align: top;\n",
       "    }\n",
       "\n",
       "    .dataframe thead th {\n",
       "        text-align: right;\n",
       "    }\n",
       "</style>\n",
       "<table border=\"1\" class=\"dataframe\">\n",
       "  <thead>\n",
       "    <tr style=\"text-align: right;\">\n",
       "      <th></th>\n",
       "      <th>total_sqft</th>\n",
       "      <th>bath</th>\n",
       "      <th>price</th>\n",
       "      <th>bhk</th>\n",
       "      <th>price_per_sqft</th>\n",
       "    </tr>\n",
       "  </thead>\n",
       "  <tbody>\n",
       "    <tr>\n",
       "      <th>count</th>\n",
       "      <td>13195.000000</td>\n",
       "      <td>13195.00000</td>\n",
       "      <td>13195.000000</td>\n",
       "      <td>13195.000000</td>\n",
       "      <td>13195.000000</td>\n",
       "    </tr>\n",
       "    <tr>\n",
       "      <th>mean</th>\n",
       "      <td>1555.884482</td>\n",
       "      <td>2.69064</td>\n",
       "      <td>112.267415</td>\n",
       "      <td>2.800152</td>\n",
       "      <td>6713.708602</td>\n",
       "    </tr>\n",
       "    <tr>\n",
       "      <th>std</th>\n",
       "      <td>1237.196807</td>\n",
       "      <td>1.33853</td>\n",
       "      <td>149.200669</td>\n",
       "      <td>1.292344</td>\n",
       "      <td>4876.727718</td>\n",
       "    </tr>\n",
       "    <tr>\n",
       "      <th>min</th>\n",
       "      <td>15.000000</td>\n",
       "      <td>1.00000</td>\n",
       "      <td>8.000000</td>\n",
       "      <td>1.000000</td>\n",
       "      <td>267.000000</td>\n",
       "    </tr>\n",
       "    <tr>\n",
       "      <th>25%</th>\n",
       "      <td>1100.000000</td>\n",
       "      <td>2.00000</td>\n",
       "      <td>50.000000</td>\n",
       "      <td>2.000000</td>\n",
       "      <td>4266.500000</td>\n",
       "    </tr>\n",
       "    <tr>\n",
       "      <th>50%</th>\n",
       "      <td>1275.000000</td>\n",
       "      <td>2.00000</td>\n",
       "      <td>71.740000</td>\n",
       "      <td>3.000000</td>\n",
       "      <td>5434.000000</td>\n",
       "    </tr>\n",
       "    <tr>\n",
       "      <th>75%</th>\n",
       "      <td>1672.500000</td>\n",
       "      <td>3.00000</td>\n",
       "      <td>120.000000</td>\n",
       "      <td>3.000000</td>\n",
       "      <td>7313.000000</td>\n",
       "    </tr>\n",
       "    <tr>\n",
       "      <th>max</th>\n",
       "      <td>52272.000000</td>\n",
       "      <td>40.00000</td>\n",
       "      <td>3600.000000</td>\n",
       "      <td>43.000000</td>\n",
       "      <td>200000.000000</td>\n",
       "    </tr>\n",
       "  </tbody>\n",
       "</table>\n",
       "</div>"
      ],
      "text/plain": [
       "         total_sqft         bath         price           bhk  price_per_sqft\n",
       "count  13195.000000  13195.00000  13195.000000  13195.000000    13195.000000\n",
       "mean    1555.884482      2.69064    112.267415      2.800152     6713.708602\n",
       "std     1237.196807      1.33853    149.200669      1.292344     4876.727718\n",
       "min       15.000000      1.00000      8.000000      1.000000      267.000000\n",
       "25%     1100.000000      2.00000     50.000000      2.000000     4266.500000\n",
       "50%     1275.000000      2.00000     71.740000      3.000000     5434.000000\n",
       "75%     1672.500000      3.00000    120.000000      3.000000     7313.000000\n",
       "max    52272.000000     40.00000   3600.000000     43.000000   200000.000000"
      ]
     },
     "execution_count": 43,
     "metadata": {},
     "output_type": "execute_result"
    }
   ],
   "source": [
    "df_mean_std.describe()"
   ]
  },
  {
   "cell_type": "code",
   "execution_count": 45,
   "id": "d4fe0171-0151-4b82-85d8-49495b6c996c",
   "metadata": {},
   "outputs": [],
   "source": [
    "# Percentile Method"
   ]
  },
  {
   "cell_type": "code",
   "execution_count": 47,
   "id": "57bf209d-26f5-4cfc-ae97-49ac9ee97d69",
   "metadata": {},
   "outputs": [],
   "source": [
    "lower_percentile = df['price_per_sqft'].quantile(0.05)\n",
    "upper_percentile = df['price_per_sqft'].quantile(0.95)"
   ]
  },
  {
   "cell_type": "code",
   "execution_count": 49,
   "id": "ed6fc667-76a1-477b-a40f-04770cde5c05",
   "metadata": {},
   "outputs": [
    {
     "name": "stdout",
     "output_type": "stream",
     "text": [
      "Lower percentile: 3107.8500000000004\n",
      "Upper percentile: 15312.099999999984\n"
     ]
    }
   ],
   "source": [
    "print('Lower percentile:', lower_percentile)\n",
    "print('Upper percentile:', upper_percentile)"
   ]
  },
  {
   "cell_type": "code",
   "execution_count": 51,
   "id": "cd0414fc-3f51-43c8-85d1-bb4fe55e81b8",
   "metadata": {},
   "outputs": [],
   "source": [
    "df_percentile = df[(df['price_per_sqft'] >= lower_percentile) & (df['price_per_sqft'] <= upper_percentile)]"
   ]
  },
  {
   "cell_type": "code",
   "execution_count": 53,
   "id": "30b235f5-4925-47f0-b30a-32cbfdbcdcbf",
   "metadata": {},
   "outputs": [
    {
     "data": {
      "text/html": [
       "<div>\n",
       "<style scoped>\n",
       "    .dataframe tbody tr th:only-of-type {\n",
       "        vertical-align: middle;\n",
       "    }\n",
       "\n",
       "    .dataframe tbody tr th {\n",
       "        vertical-align: top;\n",
       "    }\n",
       "\n",
       "    .dataframe thead th {\n",
       "        text-align: right;\n",
       "    }\n",
       "</style>\n",
       "<table border=\"1\" class=\"dataframe\">\n",
       "  <thead>\n",
       "    <tr style=\"text-align: right;\">\n",
       "      <th></th>\n",
       "      <th>total_sqft</th>\n",
       "      <th>bath</th>\n",
       "      <th>price</th>\n",
       "      <th>bhk</th>\n",
       "      <th>price_per_sqft</th>\n",
       "    </tr>\n",
       "  </thead>\n",
       "  <tbody>\n",
       "    <tr>\n",
       "      <th>count</th>\n",
       "      <td>11880.000000</td>\n",
       "      <td>11880.000000</td>\n",
       "      <td>11880.000000</td>\n",
       "      <td>11880.000000</td>\n",
       "      <td>11880.000000</td>\n",
       "    </tr>\n",
       "    <tr>\n",
       "      <th>mean</th>\n",
       "      <td>1526.834734</td>\n",
       "      <td>2.631397</td>\n",
       "      <td>98.746204</td>\n",
       "      <td>2.732660</td>\n",
       "      <td>6134.521380</td>\n",
       "    </tr>\n",
       "    <tr>\n",
       "      <th>std</th>\n",
       "      <td>900.548874</td>\n",
       "      <td>1.172290</td>\n",
       "      <td>88.614835</td>\n",
       "      <td>1.109424</td>\n",
       "      <td>2505.693062</td>\n",
       "    </tr>\n",
       "    <tr>\n",
       "      <th>min</th>\n",
       "      <td>276.000000</td>\n",
       "      <td>1.000000</td>\n",
       "      <td>13.500000</td>\n",
       "      <td>1.000000</td>\n",
       "      <td>3108.000000</td>\n",
       "    </tr>\n",
       "    <tr>\n",
       "      <th>25%</th>\n",
       "      <td>1108.000000</td>\n",
       "      <td>2.000000</td>\n",
       "      <td>51.180000</td>\n",
       "      <td>2.000000</td>\n",
       "      <td>4380.000000</td>\n",
       "    </tr>\n",
       "    <tr>\n",
       "      <th>50%</th>\n",
       "      <td>1290.000000</td>\n",
       "      <td>2.000000</td>\n",
       "      <td>71.000000</td>\n",
       "      <td>3.000000</td>\n",
       "      <td>5438.000000</td>\n",
       "    </tr>\n",
       "    <tr>\n",
       "      <th>75%</th>\n",
       "      <td>1670.000000</td>\n",
       "      <td>3.000000</td>\n",
       "      <td>111.000000</td>\n",
       "      <td>3.000000</td>\n",
       "      <td>7024.500000</td>\n",
       "    </tr>\n",
       "    <tr>\n",
       "      <th>max</th>\n",
       "      <td>30400.000000</td>\n",
       "      <td>16.000000</td>\n",
       "      <td>2100.000000</td>\n",
       "      <td>16.000000</td>\n",
       "      <td>15311.000000</td>\n",
       "    </tr>\n",
       "  </tbody>\n",
       "</table>\n",
       "</div>"
      ],
      "text/plain": [
       "         total_sqft          bath         price           bhk  price_per_sqft\n",
       "count  11880.000000  11880.000000  11880.000000  11880.000000    11880.000000\n",
       "mean    1526.834734      2.631397     98.746204      2.732660     6134.521380\n",
       "std      900.548874      1.172290     88.614835      1.109424     2505.693062\n",
       "min      276.000000      1.000000     13.500000      1.000000     3108.000000\n",
       "25%     1108.000000      2.000000     51.180000      2.000000     4380.000000\n",
       "50%     1290.000000      2.000000     71.000000      3.000000     5438.000000\n",
       "75%     1670.000000      3.000000    111.000000      3.000000     7024.500000\n",
       "max    30400.000000     16.000000   2100.000000     16.000000    15311.000000"
      ]
     },
     "execution_count": 53,
     "metadata": {},
     "output_type": "execute_result"
    }
   ],
   "source": [
    "df_percentile.describe()"
   ]
  },
  {
   "cell_type": "code",
   "execution_count": 55,
   "id": "3cd44658-21ad-4121-9062-9f8e8ce63c76",
   "metadata": {},
   "outputs": [],
   "source": [
    "#  IQR Method"
   ]
  },
  {
   "cell_type": "code",
   "execution_count": 59,
   "id": "90e42729-6be7-4df9-876a-f554f59dc40d",
   "metadata": {},
   "outputs": [],
   "source": [
    "Q1 = df['price_per_sqft'].quantile(0.25)\n",
    "Q3 = df['price_per_sqft'].quantile(0.75)\n",
    "IQR = Q3 - Q1"
   ]
  },
  {
   "cell_type": "code",
   "execution_count": 61,
   "id": "a3315e17-2f3e-4732-ad77-2ab5c286eab9",
   "metadata": {},
   "outputs": [],
   "source": [
    "lower_iqr = Q1 - 1.5 * IQR\n",
    "upper_iqr = Q3 + 1.5 * IQR"
   ]
  },
  {
   "cell_type": "code",
   "execution_count": 65,
   "id": "7da4d84b-8e79-4ef3-bcf9-3459ec6692cc",
   "metadata": {},
   "outputs": [
    {
     "name": "stdout",
     "output_type": "stream",
     "text": [
      "IQR:  3050.0\n",
      "Lower IQR:  -308.0\n",
      "Upper IQR:  11892.0\n"
     ]
    }
   ],
   "source": [
    "print('IQR: ', IQR)\n",
    "print('Lower IQR: ', lower_iqr)\n",
    "print('Upper IQR: ', upper_iqr)"
   ]
  },
  {
   "cell_type": "code",
   "execution_count": 69,
   "id": "487da12b-9a69-4644-9c2d-a2590cc02bc7",
   "metadata": {},
   "outputs": [],
   "source": [
    "df_iqr = df[(df['price_per_sqft'] >= lower_iqr) & (df['price_per_sqft'] <= upper_iqr)]"
   ]
  },
  {
   "cell_type": "code",
   "execution_count": 71,
   "id": "806d0dc8-b0b7-442c-8c56-8a7bd66bc59d",
   "metadata": {},
   "outputs": [
    {
     "data": {
      "text/html": [
       "<div>\n",
       "<style scoped>\n",
       "    .dataframe tbody tr th:only-of-type {\n",
       "        vertical-align: middle;\n",
       "    }\n",
       "\n",
       "    .dataframe tbody tr th {\n",
       "        vertical-align: top;\n",
       "    }\n",
       "\n",
       "    .dataframe thead th {\n",
       "        text-align: right;\n",
       "    }\n",
       "</style>\n",
       "<table border=\"1\" class=\"dataframe\">\n",
       "  <thead>\n",
       "    <tr style=\"text-align: right;\">\n",
       "      <th></th>\n",
       "      <th>total_sqft</th>\n",
       "      <th>bath</th>\n",
       "      <th>price</th>\n",
       "      <th>bhk</th>\n",
       "      <th>price_per_sqft</th>\n",
       "    </tr>\n",
       "  </thead>\n",
       "  <tbody>\n",
       "    <tr>\n",
       "      <th>count</th>\n",
       "      <td>11935.000000</td>\n",
       "      <td>11935.000000</td>\n",
       "      <td>11935.000000</td>\n",
       "      <td>11935.000000</td>\n",
       "      <td>11935.000000</td>\n",
       "    </tr>\n",
       "    <tr>\n",
       "      <th>mean</th>\n",
       "      <td>1514.629659</td>\n",
       "      <td>2.533641</td>\n",
       "      <td>87.654926</td>\n",
       "      <td>2.644826</td>\n",
       "      <td>5575.925513</td>\n",
       "    </tr>\n",
       "    <tr>\n",
       "      <th>std</th>\n",
       "      <td>1195.959790</td>\n",
       "      <td>1.111145</td>\n",
       "      <td>73.154677</td>\n",
       "      <td>1.051124</td>\n",
       "      <td>1957.779783</td>\n",
       "    </tr>\n",
       "    <tr>\n",
       "      <th>min</th>\n",
       "      <td>276.000000</td>\n",
       "      <td>1.000000</td>\n",
       "      <td>8.000000</td>\n",
       "      <td>1.000000</td>\n",
       "      <td>267.000000</td>\n",
       "    </tr>\n",
       "    <tr>\n",
       "      <th>25%</th>\n",
       "      <td>1100.000000</td>\n",
       "      <td>2.000000</td>\n",
       "      <td>48.000000</td>\n",
       "      <td>2.000000</td>\n",
       "      <td>4166.000000</td>\n",
       "    </tr>\n",
       "    <tr>\n",
       "      <th>50%</th>\n",
       "      <td>1270.000000</td>\n",
       "      <td>2.000000</td>\n",
       "      <td>66.780000</td>\n",
       "      <td>2.000000</td>\n",
       "      <td>5188.000000</td>\n",
       "    </tr>\n",
       "    <tr>\n",
       "      <th>75%</th>\n",
       "      <td>1634.500000</td>\n",
       "      <td>3.000000</td>\n",
       "      <td>100.000000</td>\n",
       "      <td>3.000000</td>\n",
       "      <td>6603.000000</td>\n",
       "    </tr>\n",
       "    <tr>\n",
       "      <th>max</th>\n",
       "      <td>52272.000000</td>\n",
       "      <td>27.000000</td>\n",
       "      <td>2100.000000</td>\n",
       "      <td>27.000000</td>\n",
       "      <td>11875.000000</td>\n",
       "    </tr>\n",
       "  </tbody>\n",
       "</table>\n",
       "</div>"
      ],
      "text/plain": [
       "         total_sqft          bath         price           bhk  price_per_sqft\n",
       "count  11935.000000  11935.000000  11935.000000  11935.000000    11935.000000\n",
       "mean    1514.629659      2.533641     87.654926      2.644826     5575.925513\n",
       "std     1195.959790      1.111145     73.154677      1.051124     1957.779783\n",
       "min      276.000000      1.000000      8.000000      1.000000      267.000000\n",
       "25%     1100.000000      2.000000     48.000000      2.000000     4166.000000\n",
       "50%     1270.000000      2.000000     66.780000      2.000000     5188.000000\n",
       "75%     1634.500000      3.000000    100.000000      3.000000     6603.000000\n",
       "max    52272.000000     27.000000   2100.000000     27.000000    11875.000000"
      ]
     },
     "execution_count": 71,
     "metadata": {},
     "output_type": "execute_result"
    }
   ],
   "source": [
    "df_iqr.describe()"
   ]
  },
  {
   "cell_type": "code",
   "execution_count": 73,
   "id": "9f488d14-c413-41bc-8b9e-bad0ef43cebf",
   "metadata": {},
   "outputs": [],
   "source": [
    "# Z Score Method"
   ]
  },
  {
   "cell_type": "code",
   "execution_count": 75,
   "id": "7a5fea18-a191-4804-9dc8-08fb45f41245",
   "metadata": {},
   "outputs": [],
   "source": [
    "from scipy import stats"
   ]
  },
  {
   "cell_type": "code",
   "execution_count": 79,
   "id": "9131a748-daf3-417d-adb5-036f1dc1b4b2",
   "metadata": {},
   "outputs": [],
   "source": [
    "z_scores = np.abs(stats.zscore(df['price_per_sqft']))"
   ]
  },
  {
   "cell_type": "code",
   "execution_count": 83,
   "id": "829634e7-6715-4ba1-9e5b-16505284a2d1",
   "metadata": {},
   "outputs": [
    {
     "name": "stdout",
     "output_type": "stream",
     "text": [
      "Z score: 0        0.039554\n",
      "1        0.030971\n",
      "2        0.033876\n",
      "3        0.015698\n",
      "4        0.034391\n",
      "           ...   \n",
      "13195    0.011538\n",
      "13196    0.029897\n",
      "13197    0.024946\n",
      "13198    0.023300\n",
      "13199    0.045260\n",
      "Name: price_per_sqft, Length: 13200, dtype: float64\n"
     ]
    }
   ],
   "source": [
    "print('Z score:', z_scores)"
   ]
  },
  {
   "cell_type": "code",
   "execution_count": 81,
   "id": "55d69b5e-4cc5-4300-95d5-e945f5c70e39",
   "metadata": {},
   "outputs": [],
   "source": [
    "df_z_score = df[(z_scores < 3)]"
   ]
  },
  {
   "cell_type": "code",
   "execution_count": 85,
   "id": "4bc5e582-98d1-45a9-96aa-41cba30f3c9b",
   "metadata": {},
   "outputs": [
    {
     "data": {
      "text/html": [
       "<div>\n",
       "<style scoped>\n",
       "    .dataframe tbody tr th:only-of-type {\n",
       "        vertical-align: middle;\n",
       "    }\n",
       "\n",
       "    .dataframe tbody tr th {\n",
       "        vertical-align: top;\n",
       "    }\n",
       "\n",
       "    .dataframe thead th {\n",
       "        text-align: right;\n",
       "    }\n",
       "</style>\n",
       "<table border=\"1\" class=\"dataframe\">\n",
       "  <thead>\n",
       "    <tr style=\"text-align: right;\">\n",
       "      <th></th>\n",
       "      <th>total_sqft</th>\n",
       "      <th>bath</th>\n",
       "      <th>price</th>\n",
       "      <th>bhk</th>\n",
       "      <th>price_per_sqft</th>\n",
       "    </tr>\n",
       "  </thead>\n",
       "  <tbody>\n",
       "    <tr>\n",
       "      <th>count</th>\n",
       "      <td>13195.000000</td>\n",
       "      <td>13195.00000</td>\n",
       "      <td>13195.000000</td>\n",
       "      <td>13195.000000</td>\n",
       "      <td>13195.000000</td>\n",
       "    </tr>\n",
       "    <tr>\n",
       "      <th>mean</th>\n",
       "      <td>1555.884482</td>\n",
       "      <td>2.69064</td>\n",
       "      <td>112.267415</td>\n",
       "      <td>2.800152</td>\n",
       "      <td>6713.708602</td>\n",
       "    </tr>\n",
       "    <tr>\n",
       "      <th>std</th>\n",
       "      <td>1237.196807</td>\n",
       "      <td>1.33853</td>\n",
       "      <td>149.200669</td>\n",
       "      <td>1.292344</td>\n",
       "      <td>4876.727718</td>\n",
       "    </tr>\n",
       "    <tr>\n",
       "      <th>min</th>\n",
       "      <td>15.000000</td>\n",
       "      <td>1.00000</td>\n",
       "      <td>8.000000</td>\n",
       "      <td>1.000000</td>\n",
       "      <td>267.000000</td>\n",
       "    </tr>\n",
       "    <tr>\n",
       "      <th>25%</th>\n",
       "      <td>1100.000000</td>\n",
       "      <td>2.00000</td>\n",
       "      <td>50.000000</td>\n",
       "      <td>2.000000</td>\n",
       "      <td>4266.500000</td>\n",
       "    </tr>\n",
       "    <tr>\n",
       "      <th>50%</th>\n",
       "      <td>1275.000000</td>\n",
       "      <td>2.00000</td>\n",
       "      <td>71.740000</td>\n",
       "      <td>3.000000</td>\n",
       "      <td>5434.000000</td>\n",
       "    </tr>\n",
       "    <tr>\n",
       "      <th>75%</th>\n",
       "      <td>1672.500000</td>\n",
       "      <td>3.00000</td>\n",
       "      <td>120.000000</td>\n",
       "      <td>3.000000</td>\n",
       "      <td>7313.000000</td>\n",
       "    </tr>\n",
       "    <tr>\n",
       "      <th>max</th>\n",
       "      <td>52272.000000</td>\n",
       "      <td>40.00000</td>\n",
       "      <td>3600.000000</td>\n",
       "      <td>43.000000</td>\n",
       "      <td>200000.000000</td>\n",
       "    </tr>\n",
       "  </tbody>\n",
       "</table>\n",
       "</div>"
      ],
      "text/plain": [
       "         total_sqft         bath         price           bhk  price_per_sqft\n",
       "count  13195.000000  13195.00000  13195.000000  13195.000000    13195.000000\n",
       "mean    1555.884482      2.69064    112.267415      2.800152     6713.708602\n",
       "std     1237.196807      1.33853    149.200669      1.292344     4876.727718\n",
       "min       15.000000      1.00000      8.000000      1.000000      267.000000\n",
       "25%     1100.000000      2.00000     50.000000      2.000000     4266.500000\n",
       "50%     1275.000000      2.00000     71.740000      3.000000     5434.000000\n",
       "75%     1672.500000      3.00000    120.000000      3.000000     7313.000000\n",
       "max    52272.000000     40.00000   3600.000000     43.000000   200000.000000"
      ]
     },
     "execution_count": 85,
     "metadata": {},
     "output_type": "execute_result"
    }
   ],
   "source": [
    "df_z_score.describe()"
   ]
  },
  {
   "cell_type": "markdown",
   "id": "b9511f04-d0b6-4355-a2ee-c26f1ff7d562",
   "metadata": {},
   "source": [
    "# Q3"
   ]
  },
  {
   "cell_type": "code",
   "execution_count": 88,
   "id": "b1cb5a45-6373-412f-ab69-f9c4e81f97da",
   "metadata": {},
   "outputs": [
    {
     "data": {
      "image/png": "[encoded data removed]",
      "text/plain": [
       "<Figure size 1200x600 with 4 Axes>"
      ]
     },
     "metadata": {},
     "output_type": "display_data"
    }
   ],
   "source": [
    "plt.figure(figsize=(12, 6))\n",
    "\n",
    "plt.subplot(1, 4, 1)\n",
    "sns.boxplot(y=df['price_per_sqft'])\n",
    "plt.title('Original Data')\n",
    "\n",
    "plt.subplot(1, 4, 2)\n",
    "sns.boxplot(y=df_mean_std['price_per_sqft'])\n",
    "plt.title('Mean & Std Dev')\n",
    "\n",
    "plt.subplot(1, 4, 3)\n",
    "sns.boxplot(y=df_percentile['price_per_sqft'])\n",
    "plt.title('Percentile Method')\n",
    "\n",
    "plt.subplot(1, 4, 4)\n",
    "sns.boxplot(y=df_iqr['price_per_sqft'])\n",
    "plt.title('IQR Method')\n",
    "\n",
    "plt.tight_layout()\n",
    "plt.show()"
   ]
  },
  {
   "cell_type": "markdown",
   "id": "3d4e8131-9ce3-4dfe-9ca6-8e1f1dddb43c",
   "metadata": {},
   "source": [
    "# Q4"
   ]
  },
  {
   "cell_type": "code",
   "execution_count": 91,
   "id": "19d3d32a-505f-44d6-bb2b-b7740cdb9773",
   "metadata": {},
   "outputs": [],
   "source": [
    "from scipy.stats import skew, kurtosis"
   ]
  },
  {
   "cell_type": "code",
   "execution_count": 95,
   "id": "5b9a3863-6219-4332-a14b-185425e833f7",
   "metadata": {},
   "outputs": [
    {
     "name": "stdout",
     "output_type": "stream",
     "text": [
      "Skewness before: 108.26875024325159\n",
      "Kurtosis before: 12090.633538860382\n"
     ]
    }
   ],
   "source": [
    "print(\"Skewness before:\", skew(df['price_per_sqft']))\n",
    "print(\"Kurtosis before:\", kurtosis(df['price_per_sqft']))"
   ]
  },
  {
   "cell_type": "code",
   "execution_count": 97,
   "id": "5c6382b2-7548-41b2-a316-c03cf63e81a6",
   "metadata": {},
   "outputs": [],
   "source": [
    "df['log_price_per_sqft'] = np.log(df['price_per_sqft'])"
   ]
  },
  {
   "cell_type": "code",
   "execution_count": 99,
   "id": "32b15b11-b355-4bd9-93e2-1742420a80e7",
   "metadata": {},
   "outputs": [
    {
     "name": "stdout",
     "output_type": "stream",
     "text": [
      "Skewness after: 1.3997035748119977\n",
      "Kurtosis after: 9.199636085376468\n"
     ]
    }
   ],
   "source": [
    "print(\"Skewness after:\", skew(df['log_price_per_sqft']))\n",
    "print(\"Kurtosis after:\", kurtosis(df['log_price_per_sqft']))"
   ]
  },
  {
   "cell_type": "code",
   "execution_count": 101,
   "id": "5aad7fcb-62f2-4a2d-9810-bca2c2658ec1",
   "metadata": {},
   "outputs": [
    {
     "data": {
      "image/png": "[encoded data removed]",
      "text/plain": [
       "<Figure size 640x480 with 1 Axes>"
      ]
     },
     "metadata": {},
     "output_type": "display_data"
    }
   ],
   "source": [
    "sb.histplot(df['log_price_per_sqft'], bins=30, kde=True)\n",
    "plt.title('Log Transformed Price per Square Foot')\n",
    "plt.xlabel('Log Price per Square Foot')\n",
    "plt.ylabel('Frequency')\n",
    "plt.show()"
   ]
  }
 ],
 "metadata": {
  "kernelspec": {
   "display_name": "Python 3 (ipykernel)",
   "language": "python",
   "name": "python3"
  },
  "language_info": {
   "codemirror_mode": {
    "name": "ipython",
    "version": 3
   },
   "file_extension": ".py",
   "mimetype": "text/x-python",
   "name": "python",
   "nbconvert_exporter": "python",
   "pygments_lexer": "ipython3",
   "version": "3.12.4"
  }
 },
 "nbformat": 4,
 "nbformat_minor": 5
}
